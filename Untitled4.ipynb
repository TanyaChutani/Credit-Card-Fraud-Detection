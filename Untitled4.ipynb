{
 "cells": [
  {
   "cell_type": "code",
   "execution_count": 25,
   "metadata": {},
   "outputs": [],
   "source": [
    "import pandas as pd\n",
    "import numpy as np\n",
    "import matplotlib.pyplot as plt\n",
    "import seaborn as sns\n",
    "from sklearn.preprocessing import StandardScaler\n",
    "from imblearn.over_sampling import SMOTE\n",
    "from sklearn.svm import LinearSVC\n",
    "#from imblearn.combine import SMOTEENN\n",
    "from sklearn.model_selection import train_test_split\n",
    "from sklearn.linear_model import LogisticRegression\n",
    "from sklearn.ensemble import RandomForestClassifier\n",
    "from sklearn.metrics import recall_score\n",
    "from sklearn.metrics import classification_report, confusion_matrix, roc_curve, roc_auc_score,auc\n",
    "from sklearn.svm import SVC\n",
    "from imblearn.metrics import classification_report_imbalanced\n",
    "from collections import Counter\n"
   ]
  },
  {
   "cell_type": "code",
   "execution_count": 2,
   "metadata": {},
   "outputs": [
    {
     "name": "stdout",
     "output_type": "stream",
     "text": [
      "   Time        V1        V2        V3        V4        V5        V6        V7  \\\n",
      "0   0.0 -1.359807 -0.072781  2.536347  1.378155 -0.338321  0.462388  0.239599   \n",
      "1   0.0  1.191857  0.266151  0.166480  0.448154  0.060018 -0.082361 -0.078803   \n",
      "2   1.0 -1.358354 -1.340163  1.773209  0.379780 -0.503198  1.800499  0.791461   \n",
      "3   1.0 -0.966272 -0.185226  1.792993 -0.863291 -0.010309  1.247203  0.237609   \n",
      "4   2.0 -1.158233  0.877737  1.548718  0.403034 -0.407193  0.095921  0.592941   \n",
      "\n",
      "         V8        V9  ...         V21       V22       V23       V24  \\\n",
      "0  0.098698  0.363787  ...   -0.018307  0.277838 -0.110474  0.066928   \n",
      "1  0.085102 -0.255425  ...   -0.225775 -0.638672  0.101288 -0.339846   \n",
      "2  0.247676 -1.514654  ...    0.247998  0.771679  0.909412 -0.689281   \n",
      "3  0.377436 -1.387024  ...   -0.108300  0.005274 -0.190321 -1.175575   \n",
      "4 -0.270533  0.817739  ...   -0.009431  0.798278 -0.137458  0.141267   \n",
      "\n",
      "        V25       V26       V27       V28  Amount  Class  \n",
      "0  0.128539 -0.189115  0.133558 -0.021053  149.62      0  \n",
      "1  0.167170  0.125895 -0.008983  0.014724    2.69      0  \n",
      "2 -0.327642 -0.139097 -0.055353 -0.059752  378.66      0  \n",
      "3  0.647376 -0.221929  0.062723  0.061458  123.50      0  \n",
      "4 -0.206010  0.502292  0.219422  0.215153   69.99      0  \n",
      "\n",
      "[5 rows x 31 columns]\n"
     ]
    }
   ],
   "source": [
    "df=pd.read_csv(\"creditcard.csv\")\n",
    "print(df.head())"
   ]
  },
  {
   "cell_type": "code",
   "execution_count": 19,
   "metadata": {},
   "outputs": [
    {
     "name": "stdout",
     "output_type": "stream",
     "text": [
      "Index(['Time', 'V1', 'V2', 'V3', 'V4', 'V5', 'V6', 'V7', 'V8', 'V9', 'V10',\n",
      "       'V11', 'V12', 'V13', 'V14', 'V15', 'V16', 'V17', 'V18', 'V19', 'V20',\n",
      "       'V21', 'V22', 'V23', 'V24', 'V25', 'V26', 'V27', 'V28', 'Amount',\n",
      "       'Class'],\n",
      "      dtype='object')\n"
     ]
    }
   ],
   "source": [
    "print(df.columns)"
   ]
  },
  {
   "cell_type": "markdown",
   "metadata": {},
   "source": [
    "V1, V2, ... V28 are the principal components obtained with PCA\n",
    "\n",
    "Since almost all the variables in the dataset are the Pricipal Components derived from the original data, we will not get into any exploratory or descriptive analysis for the simple reason that we do not know what the variables stand for!\n",
    "\n"
   ]
  },
  {
   "cell_type": "code",
   "execution_count": 41,
   "metadata": {},
   "outputs": [
    {
     "name": "stdout",
     "output_type": "stream",
     "text": [
      "(284807, 31)\n",
      "0    284315\n",
      "1       492\n",
      "Name: Class, dtype: int64\n"
     ]
    }
   ],
   "source": [
    "print(df.shape)\n",
    "print(pd.value_counts(df[\"Class\"]).sort_index())"
   ]
  },
  {
   "cell_type": "markdown",
   "metadata": {},
   "source": [
    "Check for Null Values"
   ]
  },
  {
   "cell_type": "code",
   "execution_count": 42,
   "metadata": {},
   "outputs": [
    {
     "name": "stdout",
     "output_type": "stream",
     "text": [
      "Time      0\n",
      "V1        0\n",
      "V2        0\n",
      "V3        0\n",
      "V4        0\n",
      "V5        0\n",
      "V6        0\n",
      "V7        0\n",
      "V8        0\n",
      "V9        0\n",
      "V10       0\n",
      "V11       0\n",
      "V12       0\n",
      "V13       0\n",
      "V14       0\n",
      "V15       0\n",
      "V16       0\n",
      "V17       0\n",
      "V18       0\n",
      "V19       0\n",
      "V20       0\n",
      "V21       0\n",
      "V22       0\n",
      "V23       0\n",
      "V24       0\n",
      "V25       0\n",
      "V26       0\n",
      "V27       0\n",
      "V28       0\n",
      "Amount    0\n",
      "Class     0\n",
      "dtype: int64\n"
     ]
    }
   ],
   "source": [
    "print(df.isnull().sum())"
   ]
  },
  {
   "cell_type": "code",
   "execution_count": 43,
   "metadata": {},
   "outputs": [
    {
     "name": "stdout",
     "output_type": "stream",
     "text": [
      "                Time            V1            V2            V3            V4  \\\n",
      "count  284807.000000  2.848070e+05  2.848070e+05  2.848070e+05  2.848070e+05   \n",
      "mean    94813.859575  3.919560e-15  5.688174e-16 -8.769071e-15  2.782312e-15   \n",
      "std     47488.145955  1.958696e+00  1.651309e+00  1.516255e+00  1.415869e+00   \n",
      "min         0.000000 -5.640751e+01 -7.271573e+01 -4.832559e+01 -5.683171e+00   \n",
      "25%     54201.500000 -9.203734e-01 -5.985499e-01 -8.903648e-01 -8.486401e-01   \n",
      "50%     84692.000000  1.810880e-02  6.548556e-02  1.798463e-01 -1.984653e-02   \n",
      "75%    139320.500000  1.315642e+00  8.037239e-01  1.027196e+00  7.433413e-01   \n",
      "max    172792.000000  2.454930e+00  2.205773e+01  9.382558e+00  1.687534e+01   \n",
      "\n",
      "                 V5            V6            V7            V8            V9  \\\n",
      "count  2.848070e+05  2.848070e+05  2.848070e+05  2.848070e+05  2.848070e+05   \n",
      "mean  -1.552563e-15  2.010663e-15 -1.694249e-15 -1.927028e-16 -3.137024e-15   \n",
      "std    1.380247e+00  1.332271e+00  1.237094e+00  1.194353e+00  1.098632e+00   \n",
      "min   -1.137433e+02 -2.616051e+01 -4.355724e+01 -7.321672e+01 -1.343407e+01   \n",
      "25%   -6.915971e-01 -7.682956e-01 -5.540759e-01 -2.086297e-01 -6.430976e-01   \n",
      "50%   -5.433583e-02 -2.741871e-01  4.010308e-02  2.235804e-02 -5.142873e-02   \n",
      "75%    6.119264e-01  3.985649e-01  5.704361e-01  3.273459e-01  5.971390e-01   \n",
      "max    3.480167e+01  7.330163e+01  1.205895e+02  2.000721e+01  1.559499e+01   \n",
      "\n",
      "           ...                 V21           V22           V23           V24  \\\n",
      "count      ...        2.848070e+05  2.848070e+05  2.848070e+05  2.848070e+05   \n",
      "mean       ...        1.537294e-16  7.959909e-16  5.367590e-16  4.458112e-15   \n",
      "std        ...        7.345240e-01  7.257016e-01  6.244603e-01  6.056471e-01   \n",
      "min        ...       -3.483038e+01 -1.093314e+01 -4.480774e+01 -2.836627e+00   \n",
      "25%        ...       -2.283949e-01 -5.423504e-01 -1.618463e-01 -3.545861e-01   \n",
      "50%        ...       -2.945017e-02  6.781943e-03 -1.119293e-02  4.097606e-02   \n",
      "75%        ...        1.863772e-01  5.285536e-01  1.476421e-01  4.395266e-01   \n",
      "max        ...        2.720284e+01  1.050309e+01  2.252841e+01  4.584549e+00   \n",
      "\n",
      "                V25           V26           V27           V28         Amount  \\\n",
      "count  2.848070e+05  2.848070e+05  2.848070e+05  2.848070e+05  284807.000000   \n",
      "mean   1.453003e-15  1.699104e-15 -3.660161e-16 -1.206049e-16      88.349619   \n",
      "std    5.212781e-01  4.822270e-01  4.036325e-01  3.300833e-01     250.120109   \n",
      "min   -1.029540e+01 -2.604551e+00 -2.256568e+01 -1.543008e+01       0.000000   \n",
      "25%   -3.171451e-01 -3.269839e-01 -7.083953e-02 -5.295979e-02       5.600000   \n",
      "50%    1.659350e-02 -5.213911e-02  1.342146e-03  1.124383e-02      22.000000   \n",
      "75%    3.507156e-01  2.409522e-01  9.104512e-02  7.827995e-02      77.165000   \n",
      "max    7.519589e+00  3.517346e+00  3.161220e+01  3.384781e+01   25691.160000   \n",
      "\n",
      "               Class  \n",
      "count  284807.000000  \n",
      "mean        0.001727  \n",
      "std         0.041527  \n",
      "min         0.000000  \n",
      "25%         0.000000  \n",
      "50%         0.000000  \n",
      "75%         0.000000  \n",
      "max         1.000000  \n",
      "\n",
      "[8 rows x 31 columns]\n"
     ]
    }
   ],
   "source": [
    "print(df.describe())"
   ]
  },
  {
   "cell_type": "code",
   "execution_count": 9,
   "metadata": {},
   "outputs": [
    {
     "name": "stdout",
     "output_type": "stream",
     "text": [
      "(28481, 31)\n"
     ]
    }
   ],
   "source": [
    "data=df.sample(frac=0.1,random_state=1)\n",
    "print(data.shape)\n"
   ]
  },
  {
   "cell_type": "code",
   "execution_count": 45,
   "metadata": {},
   "outputs": [
    {
     "data": {
      "image/png": "[encoded data removed]",
      "text/plain": [
       "<Figure size 1440x1440 with 36 Axes>"
      ]
     },
     "metadata": {},
     "output_type": "display_data"
    }
   ],
   "source": [
    "data.hist(figsize=(20,20))\n",
    "plt.show()"
   ]
  },
  {
   "cell_type": "code",
   "execution_count": 23,
   "metadata": {},
   "outputs": [
    {
     "name": "stdout",
     "output_type": "stream",
     "text": [
      "49\n",
      "28432\n"
     ]
    },
    {
     "data": {
      "text/plain": [
       "<matplotlib.axes._subplots.AxesSubplot at 0x1c819698320>"
      ]
     },
     "execution_count": 23,
     "metadata": {},
     "output_type": "execute_result"
    },
    {
     "data": {
      "image/png": "[encoded data removed]",
      "text/plain": [
       "<Figure size 432x288 with 1 Axes>"
      ]
     },
     "metadata": {},
     "output_type": "display_data"
    }
   ],
   "source": [
    "Fraud=data[data[\"Class\"]==1]\n",
    "Valid=data[data[\"Class\"]==0]\n",
    "print(len(Fraud))\n",
    "print(len(Valid))\n",
    "import seaborn as sns\n",
    "sns.countplot(x='Class', data=data)\n"
   ]
  },
  {
   "cell_type": "code",
   "execution_count": 11,
   "metadata": {},
   "outputs": [
    {
     "data": {
      "image/png": "[encoded data removed]",
      "text/plain": [
       "<Figure size 432x288 with 2 Axes>"
      ]
     },
     "metadata": {},
     "output_type": "display_data"
    }
   ],
   "source": [
    "sns.heatmap(data.corr())\n",
    "plt.show()"
   ]
  },
  {
   "cell_type": "code",
   "execution_count": 12,
   "metadata": {},
   "outputs": [
    {
     "name": "stdout",
     "output_type": "stream",
     "text": [
      "            Time        V1        V2        V3        V4        V5        V6  \\\n",
      "169876  119907.0 -0.611712 -0.769705 -0.149759 -0.224877  2.028577 -2.019887   \n",
      "127467   78340.0 -0.814682  1.319219  1.329415  0.027273 -0.284871 -0.653985   \n",
      "137900   82382.0 -0.318193  1.118618  0.969864 -0.127052  0.569563 -0.532484   \n",
      "21513    31717.0 -1.328271  1.018378  1.775426 -1.574193 -0.117696 -0.457733   \n",
      "134700   80923.0  1.276712  0.617120 -0.578014  0.879173  0.061706 -1.472002   \n",
      "\n",
      "              V7        V8        V9  ...         V21       V22       V23  \\\n",
      "169876  0.292491 -0.523020  0.358468  ...   -0.075208  0.045536  0.380739   \n",
      "127467  0.321552  0.435975 -0.704298  ...   -0.128619 -0.368565  0.090660   \n",
      "137900  0.706252 -0.064966 -0.463271  ...   -0.305402 -0.774704 -0.123884   \n",
      "21513   0.681867 -0.031641  0.383872  ...   -0.220815 -0.419013 -0.239197   \n",
      "134700  0.373692 -0.287204 -0.084482  ...   -0.160161 -0.430404 -0.076738   \n",
      "\n",
      "             V24       V25       V26       V27       V28  Amount  Class  \n",
      "169876  0.023440 -2.220686 -0.201146  0.066501  0.221180    1.79      0  \n",
      "127467  0.401147 -0.261034  0.080621  0.162427  0.059456    1.98      0  \n",
      "137900 -0.495687 -0.018148  0.121679  0.249050  0.092516    0.89      0  \n",
      "21513   0.009967  0.232829  0.814177  0.098797 -0.004273   15.98      0  \n",
      "134700  0.258708  0.552170  0.370701 -0.034255  0.041709    0.76      0  \n",
      "\n",
      "[5 rows x 31 columns]\n",
      "         V1        V2        V3        V4        V5        V6        V7  \\\n",
      "0 -0.611712 -0.769705 -0.149759 -0.224877  2.028577 -2.019887  0.292491   \n",
      "1 -0.814682  1.319219  1.329415  0.027273 -0.284871 -0.653985  0.321552   \n",
      "2 -0.318193  1.118618  0.969864 -0.127052  0.569563 -0.532484  0.706252   \n",
      "3 -1.328271  1.018378  1.775426 -1.574193 -0.117696 -0.457733  0.681867   \n",
      "4  1.276712  0.617120 -0.578014  0.879173  0.061706 -1.472002  0.373692   \n",
      "\n",
      "         V8        V9       V10  ...         V20       V21       V22  \\\n",
      "0 -0.523020  0.358468  0.070050  ...   -0.196039 -0.075208  0.045536   \n",
      "1  0.435975 -0.704298 -0.600684  ...   -0.009041 -0.128619 -0.368565   \n",
      "2 -0.064966 -0.463271 -0.528357  ...    0.206028 -0.305402 -0.774704   \n",
      "3 -0.031641  0.383872  0.334853  ...    0.315823 -0.220815 -0.419013   \n",
      "4 -0.287204 -0.084482 -0.696578  ...   -0.105286 -0.160161 -0.430404   \n",
      "\n",
      "        V23       V24       V25       V26       V27       V28  Class  \n",
      "0  0.380739  0.023440 -2.220686 -0.201146  0.066501  0.221180      0  \n",
      "1  0.090660  0.401147 -0.261034  0.080621  0.162427  0.059456      0  \n",
      "2 -0.123884 -0.495687 -0.018148  0.121679  0.249050  0.092516      0  \n",
      "3 -0.239197  0.009967  0.232829  0.814177  0.098797 -0.004273      0  \n",
      "4 -0.076738  0.258708  0.552170  0.370701 -0.034255  0.041709      0  \n",
      "\n",
      "[5 rows x 29 columns]\n",
      "(28481, 28)\n",
      "(28481, 1)\n"
     ]
    }
   ],
   "source": [
    "print(data.head())\n",
    "\n",
    "data=data.reset_index()\n",
    "data=data.drop([\"index\"],axis=1)\n",
    "cols = list(data.columns.values)\n",
    "data = data[['V1', 'V2', 'V3', 'V4', 'V5','V6','V7','V8','V9','V10','V11','V12','V13','V14','V15','V16','V17','V18','V19','V20','V21','V22','V23','V24','V25','V26','V27','V28','Class']]\n",
    "print(data.head())\n",
    "\n",
    "X = data.iloc[:, data.columns != 'Class']\n",
    "Y = data.iloc[:, data.columns == 'Class']\n",
    "\n",
    "print(X.shape)\n",
    "print(Y.shape)\n",
    "\n"
   ]
  },
  {
   "cell_type": "code",
   "execution_count": 31,
   "metadata": {},
   "outputs": [
    {
     "name": "stderr",
     "output_type": "stream",
     "text": [
      "C:\\Users\\hp\\Anaconda31\\lib\\site-packages\\sklearn\\utils\\validation.py:578: DataConversionWarning: A column-vector y was passed when a 1d array was expected. Please change the shape of y to (n_samples, ), for example using ravel().\n",
      "  y = column_or_1d(y, warn=True)\n"
     ]
    },
    {
     "name": "stdout",
     "output_type": "stream",
     "text": [
      "             precision    recall  f1-score   support\n",
      "\n",
      "          0       1.00      1.00      1.00      2847\n",
      "          1       0.50      0.50      0.50         2\n",
      "\n",
      "avg / total       1.00      1.00      1.00      2849\n",
      "\n",
      "[[2846    1]\n",
      " [   1    1]]\n"
     ]
    }
   ],
   "source": [
    "x_train, x_val, y_train, y_val = train_test_split(X, Y,test_size = 0.1,random_state=0)\n",
    "\n",
    "logR= LogisticRegression()\n",
    "\n",
    "logR.fit(x_train,y_train)\n",
    "\n",
    "predictR = logR.predict(x_val)\n",
    "\n",
    "print(classification_report(y_val,predictR))\n",
    "print(confusion_matrix(y_val,predictR))\n"
   ]
  },
  {
   "cell_type": "code",
   "execution_count": 27,
   "metadata": {},
   "outputs": [
    {
     "name": "stderr",
     "output_type": "stream",
     "text": [
      "C:\\Users\\hp\\Anaconda31\\lib\\site-packages\\ipykernel_launcher.py:2: DataConversionWarning: A column-vector y was passed when a 1d array was expected. Please change the shape of y to (n_samples,), for example using ravel().\n",
      "  \n"
     ]
    },
    {
     "name": "stdout",
     "output_type": "stream",
     "text": [
      "             precision    recall  f1-score   support\n",
      "\n",
      "          0       1.00      1.00      1.00      2847\n",
      "          1       1.00      1.00      1.00         2\n",
      "\n",
      "avg / total       1.00      1.00      1.00      2849\n",
      "\n",
      "[[2847    0]\n",
      " [   0    2]]\n"
     ]
    }
   ],
   "source": [
    "logR= RandomForestClassifier(random_state=14,n_estimators=100)\n",
    "logR.fit(x_train,y_train)\n",
    "predictR = logR.predict(x_val)\n",
    "print(classification_report(y_val,predictR))\n",
    "print(confusion_matrix(y_val,predictR))\n"
   ]
  },
  {
   "cell_type": "code",
   "execution_count": 22,
   "metadata": {},
   "outputs": [
    {
     "name": "stderr",
     "output_type": "stream",
     "text": [
      "C:\\Users\\hp\\Anaconda31\\lib\\site-packages\\sklearn\\utils\\validation.py:578: DataConversionWarning: A column-vector y was passed when a 1d array was expected. Please change the shape of y to (n_samples, ), for example using ravel().\n",
      "  y = column_or_1d(y, warn=True)\n"
     ]
    },
    {
     "name": "stdout",
     "output_type": "stream",
     "text": [
      "             precision    recall  f1-score   support\n",
      "\n",
      "          0       1.00      1.00      1.00      2847\n",
      "          1       1.00      0.50      0.67         2\n",
      "\n",
      "avg / total       1.00      1.00      1.00      2849\n",
      "\n",
      "[[2847    0]\n",
      " [   1    1]]\n"
     ]
    }
   ],
   "source": [
    "sv=SVC(kernel='rbf')\n",
    "sv.fit(x_train,y_train)\n",
    "predictR = sv.predict(x_val)\n",
    "print(classification_report(y_val,predictR))\n",
    "print(confusion_matrix(y_val,predictR))\n"
   ]
  },
  {
   "cell_type": "markdown",
   "metadata": {},
   "source": [
    "# UnderSampling"
   ]
  },
  {
   "cell_type": "code",
   "execution_count": 22,
   "metadata": {},
   "outputs": [
    {
     "name": "stderr",
     "output_type": "stream",
     "text": [
      "C:\\Users\\hp\\Anaconda31\\lib\\site-packages\\sklearn\\utils\\validation.py:578: DataConversionWarning: A column-vector y was passed when a 1d array was expected. Please change the shape of y to (n_samples, ), for example using ravel().\n",
      "  y = column_or_1d(y, warn=True)\n",
      "C:\\Users\\hp\\Anaconda31\\lib\\site-packages\\sklearn\\utils\\validation.py:578: DataConversionWarning: A column-vector y was passed when a 1d array was expected. Please change the shape of y to (n_samples, ), for example using ravel().\n",
      "  y = column_or_1d(y, warn=True)\n"
     ]
    },
    {
     "name": "stdout",
     "output_type": "stream",
     "text": [
      "                   pre       rec       spe        f1       geo       iba       sup\n",
      "\n",
      "          0       1.00      0.32      1.00      0.49      0.57      0.30      2847\n",
      "          1       0.00      1.00      0.32      0.00      0.57      0.34         2\n",
      "\n",
      "avg / total       1.00      0.32      1.00      0.48      0.57      0.30      2849\n",
      "\n"
     ]
    }
   ],
   "source": [
    "from imblearn.under_sampling import NearMiss\n",
    "from imblearn.pipeline import make_pipeline\n",
    "\n",
    "# Create a pipeline\n",
    "pipeline = make_pipeline(NearMiss(version=2, random_state=14),\n",
    "                         LinearSVC(random_state=14))\n",
    "pipeline.fit(x_train, y_train)\n",
    "\n",
    "# Classify and report the results\n",
    "print(classification_report_imbalanced(y_val, pipeline.predict(x_val)))\n"
   ]
  },
  {
   "cell_type": "markdown",
   "metadata": {},
   "source": [
    "# OverSampling\n",
    "One way to fight this issue is to generate new samples in the classes which are under-represented. The most naive strategy is to generate new samples by randomly sampling with replacement the current available samples.It's duplicating some of the original samples of minority class.\n",
    "\n",
    "### RandomOverSampling"
   ]
  },
  {
   "cell_type": "code",
   "execution_count": 33,
   "metadata": {},
   "outputs": [
    {
     "name": "stderr",
     "output_type": "stream",
     "text": [
      "C:\\Users\\hp\\Anaconda31\\lib\\site-packages\\sklearn\\utils\\validation.py:578: DataConversionWarning: A column-vector y was passed when a 1d array was expected. Please change the shape of y to (n_samples, ), for example using ravel().\n",
      "  y = column_or_1d(y, warn=True)\n",
      "C:\\Users\\hp\\Anaconda31\\lib\\site-packages\\sklearn\\utils\\validation.py:578: DataConversionWarning: A column-vector y was passed when a 1d array was expected. Please change the shape of y to (n_samples, ), for example using ravel().\n",
      "  y = column_or_1d(y, warn=True)\n"
     ]
    },
    {
     "name": "stdout",
     "output_type": "stream",
     "text": [
      "[(0, 25585), (1, 25585)]\n",
      "             precision    recall  f1-score   support\n",
      "\n",
      "          0       1.00      0.96      0.98      2847\n",
      "          1       0.02      1.00      0.04         2\n",
      "\n",
      "avg / total       1.00      0.96      0.98      2849\n",
      "\n",
      "[[2744  103]\n",
      " [   0    2]]\n"
     ]
    }
   ],
   "source": [
    "from imblearn.over_sampling import RandomOverSampler\n",
    "ros = RandomOverSampler(random_state=0)\n",
    "X_resampled, y_resampled = ros.fit_sample(x_train, y_train)\n",
    "from collections import Counter\n",
    "print(sorted(Counter(y_resampled).items()))\n",
    "from sklearn.svm import LinearSVC\n",
    "clf = LinearSVC()\n",
    "clf.fit(X_resampled, y_resampled) \n",
    "clf.predict(x_val)\n",
    "predictR = clf.predict(x_val)\n",
    "print(classification_report(y_val,predictR))\n",
    "print(confusion_matrix(y_val,predictR))\n"
   ]
  },
  {
   "cell_type": "markdown",
   "metadata": {},
   "source": [
    "# Smote\n",
    "This technique works by not only oversampling the minority class (fraud cases), but also undersampling the majority class (non-fraud cases). It generates new samples by interpolation.\n"
   ]
  },
  {
   "cell_type": "code",
   "execution_count": 34,
   "metadata": {},
   "outputs": [
    {
     "name": "stderr",
     "output_type": "stream",
     "text": [
      "C:\\Users\\hp\\Anaconda31\\lib\\site-packages\\sklearn\\utils\\validation.py:578: DataConversionWarning: A column-vector y was passed when a 1d array was expected. Please change the shape of y to (n_samples, ), for example using ravel().\n",
      "  y = column_or_1d(y, warn=True)\n",
      "C:\\Users\\hp\\Anaconda31\\lib\\site-packages\\sklearn\\utils\\validation.py:578: DataConversionWarning: A column-vector y was passed when a 1d array was expected. Please change the shape of y to (n_samples, ), for example using ravel().\n",
      "  y = column_or_1d(y, warn=True)\n"
     ]
    },
    {
     "name": "stdout",
     "output_type": "stream",
     "text": [
      "Resampled dataset shape Counter({0: 25585, 1: 25585})\n",
      "             precision    recall  f1-score   support\n",
      "\n",
      "          0       1.00      0.97      0.98      2847\n",
      "          1       0.02      1.00      0.04         2\n",
      "\n",
      "avg / total       1.00      0.97      0.98      2849\n",
      "\n",
      "[[2753   94]\n",
      " [   0    2]]\n"
     ]
    }
   ],
   "source": [
    "sm = SMOTE(random_state=12, ratio = 'auto', kind = 'regular')\n",
    "\n",
    "x_train_res, y_train_res = sm.fit_sample(x_train, y_train)\n",
    "\n",
    "print('Resampled dataset shape {}'.format(Counter(y_train_res)))\n",
    "\n",
    "clf = LinearSVC()\n",
    "clf.fit(x_train_res, y_train_res) \n",
    "clf.predict(x_val)\n",
    "predictR = clf.predict(x_val)\n",
    "print(classification_report(y_val,predictR))\n",
    "print(confusion_matrix(y_val,predictR))\n"
   ]
  },
  {
   "cell_type": "markdown",
   "metadata": {},
   "source": [
    "# Combination Of Under And Over Sampling"
   ]
  },
  {
   "cell_type": "code",
   "execution_count": 37,
   "metadata": {},
   "outputs": [
    {
     "name": "stderr",
     "output_type": "stream",
     "text": [
      "C:\\Users\\hp\\Anaconda31\\lib\\site-packages\\sklearn\\utils\\validation.py:578: DataConversionWarning: A column-vector y was passed when a 1d array was expected. Please change the shape of y to (n_samples, ), for example using ravel().\n",
      "  y = column_or_1d(y, warn=True)\n",
      "C:\\Users\\hp\\Anaconda31\\lib\\site-packages\\sklearn\\utils\\validation.py:578: DataConversionWarning: A column-vector y was passed when a 1d array was expected. Please change the shape of y to (n_samples, ), for example using ravel().\n",
      "  y = column_or_1d(y, warn=True)\n"
     ]
    },
    {
     "name": "stdout",
     "output_type": "stream",
     "text": [
      "[(0, 25520), (1, 25585)]\n",
      "             precision    recall  f1-score   support\n",
      "\n",
      "          0       1.00      0.97      0.98      2847\n",
      "          1       0.02      1.00      0.04         2\n",
      "\n",
      "avg / total       1.00      0.97      0.98      2849\n",
      "\n",
      "[[2762   85]\n",
      " [   0    2]]\n"
     ]
    },
    {
     "name": "stderr",
     "output_type": "stream",
     "text": [
      "C:\\Users\\hp\\Anaconda31\\lib\\site-packages\\sklearn\\utils\\validation.py:578: DataConversionWarning: A column-vector y was passed when a 1d array was expected. Please change the shape of y to (n_samples, ), for example using ravel().\n",
      "  y = column_or_1d(y, warn=True)\n",
      "C:\\Users\\hp\\Anaconda31\\lib\\site-packages\\sklearn\\utils\\validation.py:578: DataConversionWarning: A column-vector y was passed when a 1d array was expected. Please change the shape of y to (n_samples, ), for example using ravel().\n",
      "  y = column_or_1d(y, warn=True)\n"
     ]
    },
    {
     "name": "stdout",
     "output_type": "stream",
     "text": [
      "[(0, 25585), (1, 25585)]\n",
      "             precision    recall  f1-score   support\n",
      "\n",
      "          0       1.00      0.97      0.98      2847\n",
      "          1       0.02      1.00      0.04         2\n",
      "\n",
      "avg / total       1.00      0.97      0.98      2849\n",
      "\n",
      "[[2752   95]\n",
      " [   0    2]]\n"
     ]
    }
   ],
   "source": [
    "from imblearn.combine import SMOTEENN\n",
    "smote_enn = SMOTEENN(random_state=0)\n",
    "X_resampled, y_resampled = smote_enn.fit_sample(x_train, y_train)\n",
    "print(sorted(Counter(y_resampled).items()))\n",
    "\n",
    "clf = LinearSVC()\n",
    "clf.fit(X_resampled, y_resampled) \n",
    "clf.predict(x_val)\n",
    "predictR = clf.predict(x_val)\n",
    "print(classification_report(y_val,predictR))\n",
    "print(confusion_matrix(y_val,predictR))\n",
    "\n",
    "from imblearn.combine import SMOTETomek\n",
    "smote_tomek = SMOTETomek(random_state=0)\n",
    "X_resampled, y_resampled = smote_tomek.fit_sample(x_train, y_train)\n",
    "print(sorted(Counter(y_resampled).items()))\n",
    "\n",
    "clf = LinearSVC()\n",
    "clf.fit(X_resampled, y_resampled)\n",
    "clf.predict(x_val)\n",
    "predictR = clf.predict(x_val)\n",
    "print(classification_report(y_val,predictR))\n",
    "print(confusion_matrix(y_val,predictR))\n",
    "\n"
   ]
  },
  {
   "cell_type": "code",
   "execution_count": null,
   "metadata": {},
   "outputs": [],
   "source": []
  }
 ],
 "metadata": {
  "kernelspec": {
   "display_name": "Python 3",
   "language": "python",
   "name": "python3"
  },
  "language_info": {
   "codemirror_mode": {
    "name": "ipython",
    "version": 3
   },
   "file_extension": ".py",
   "mimetype": "text/x-python",
   "name": "python",
   "nbconvert_exporter": "python",
   "pygments_lexer": "ipython3",
   "version": "3.6.5"
  }
 },
 "nbformat": 4,
 "nbformat_minor": 2
}
